{
 "cells": [
  {
   "cell_type": "code",
   "execution_count": 2,
   "metadata": {
    "collapsed": false
   },
   "outputs": [
    {
     "data": {
      "image/png": "[encoded data removed]",
      "text/plain": [
       "<matplotlib.figure.Figure at 0x1ee8909d5f8>"
      ]
     },
     "metadata": {},
     "output_type": "display_data"
    }
   ],
   "source": [
    "from matplotlib import rc\n",
    "%matplotlib inline\n",
    "import daft\n",
    "\n",
    "rc(\"font\", family=\"Ricty\", size=15)\n",
    "rc(\"text\", usetex=True)\n",
    "\n",
    "\n",
    "pgm = daft.PGM(shape=[5, 5])\n",
    "\n",
    "# Nodes\n",
    "pgm.add_node(daft.Node(\"alpha\", r\"$\\alpha$\", 2, 4)) # 名前，ラベル，座標\n",
    "pgm.add_node(daft.Node(\"theta\", r\"$\\theta$\", 2, 3))\n",
    "pgm.add_node(daft.Node(\"z\", r\"$z_i$\", 2, 2))\n",
    "pgm.add_node(daft.Node(\"w\", r\"$w_i$\", 2, 1, observed=True))\n",
    "\n",
    "pgm.add_node(daft.Node(\"beta\", r\"$\\beta$\", 3, 3))\n",
    "pgm.add_node(daft.Node(\"phi\", r\"$\\phi$\", 3, 2))\n",
    "\n",
    "\n",
    "# Edges\n",
    "pgm.add_edge(\"alpha\", \"theta\")\n",
    "pgm.add_edge(\"theta\", \"z\")\n",
    "pgm.add_edge(\"z\", \"w\")\n",
    "pgm.add_edge(\"beta\", \"phi\")\n",
    "pgm.add_edge(\"phi\", \"w\")\n",
    "\n",
    "\n",
    "# plate\n",
    "pgm.add_plate(daft.Plate([1.5, 0.2, 1.1, 3.2], label=r\"D\",\n",
    "    shift=-0.1))\n",
    "pgm.add_plate(daft.Plate([1.6, 0.5, 0.9, 2], label=r\"N\",\n",
    "    shift=-0.1))\n",
    "pgm.add_plate(daft.Plate([2.7, 1.5, 0.7, 0.8], label=r\"K\",\n",
    "    shift=-0.1))\n",
    "\n",
    "pgm.render()\n",
    "pgm.figure.savefig(\"lda.pdf\")\n"
   ]
  },
  {
   "cell_type": "code",
   "execution_count": null,
   "metadata": {
    "collapsed": true
   },
   "outputs": [],
   "source": []
  }
 ],
 "metadata": {
  "kernelspec": {
   "display_name": "Python [conda env:Anaconda3]",
   "language": "python",
   "name": "conda-env-Anaconda3-py"
  },
  "language_info": {
   "codemirror_mode": {
    "name": "ipython",
    "version": 3
   },
   "file_extension": ".py",
   "mimetype": "text/x-python",
   "name": "python",
   "nbconvert_exporter": "python",
   "pygments_lexer": "ipython3",
   "version": "3.5.2"
  }
 },
 "nbformat": 4,
 "nbformat_minor": 2
}
