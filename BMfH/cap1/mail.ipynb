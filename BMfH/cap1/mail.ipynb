{
 "cells": [
  {
   "cell_type": "code",
   "execution_count": 1,
   "metadata": {
    "collapsed": false
   },
   "outputs": [
    {
     "data": {
      "image/png": "[encoded data removed]",
      "text/plain": [
       "<matplotlib.figure.Figure at 0x20f0724fef0>"
      ]
     },
     "metadata": {},
     "output_type": "display_data"
    }
   ],
   "source": [
    "import numpy as np\n",
    "import matplotlib.pyplot as plt\n",
    "\n",
    "import pymc as pm\n",
    "\n",
    "# データの読み込み\n",
    "data = []\n",
    "with open(\"tmp/txtdata.csv\", \"r\", encoding=\"utf-8\") as f:\n",
    "    while True:\n",
    "        line = f.readline()[:-1]\n",
    "        if line == \"\" :\n",
    "            break\n",
    "        data.append(float(line))\n",
    "data = np.array(data)\n",
    "plt.bar(range(len(data)), data)\n",
    "plt.show()\n"
   ]
  },
  {
   "cell_type": "code",
   "execution_count": 2,
   "metadata": {
    "collapsed": false
   },
   "outputs": [
    {
     "name": "stdout",
     "output_type": "stream",
     "text": [
      "[ 13.  24.   8.  24.   7.  35.  14.  11.  15.  11.  22.  22.  11.  57.  11.\n",
      "  19.  29.   6.  19.  12.  22.  12.  18.  72.  32.   9.   7.  13.  19.  23.\n",
      "  27.  20.   6.  17.  13.  10.  14.   6.  16.  15.   7.   2.  15.  15.  19.\n",
      "  70.  49.   7.  53.  22.  21.  31.  19.  11.  18.  20.  12.  35.  17.  23.\n",
      "  17.   4.   2.  31.  30.  13.  27.   0.  39.  37.   5.  14.  13.  22.]\n"
     ]
    }
   ],
   "source": [
    "print(data)"
   ]
  },
  {
   "cell_type": "code",
   "execution_count": 16,
   "metadata": {
    "collapsed": false
   },
   "outputs": [
    {
     "data": {
      "image/png": "[encoded data removed]",
      "text/plain": [
       "<matplotlib.figure.Figure at 0x20f0d60ae10>"
      ]
     },
     "metadata": {},
     "output_type": "display_data"
    }
   ],
   "source": [
    "# λの分布に使う指数分布のパラメータは\n",
    "# データの平均とするといい感じらしいので\n",
    "# データの平均を求める\n",
    "num_data = data.shape[0]\n",
    "mean     = np.sum(data)/num_data\n",
    "alpha    = 1/mean\n",
    "\n",
    "# λの設定\n",
    "# ベイズ推論では推論対象の定数やパラメータは\n",
    "# それ自体が確率密度分布である\n",
    "lambda_1 = pm.Exponential(\"lambda_1\", alpha)\n",
    "lambda_2 = pm.Exponential(\"lambda_2\", alpha)\n",
    "tau      = pm.DiscreteUniform(\"tau\", 0, num_data)\n",
    "# 試しに呼び出してみよう\n",
    "temp_sample = {\"l1\":[], \"l2\":[], \"t\":[]}\n",
    "for _ in range(10000):\n",
    "    temp_sample[\"l1\"].append(lambda_1.random())\n",
    "    temp_sample[\"l2\"].append(lambda_2.random())\n",
    "    temp_sample[\"t\"].append(tau.random())\n",
    "plt.subplot(3, 1, 1)\n",
    "plt.hist(temp_sample[\"l1\"], bins=1000)\n",
    "plt.subplot(3, 1, 2)\n",
    "plt.hist(temp_sample[\"l2\"], bins=1000)\n",
    "plt.subplot(3, 1, 3)\n",
    "plt.hist(temp_sample[\"t\"], bins=1000)\n",
    "\n",
    "plt.show()\n"
   ]
  },
  {
   "cell_type": "code",
   "execution_count": 17,
   "metadata": {
    "collapsed": false
   },
   "outputs": [
    {
     "name": "stdout",
     "output_type": "stream",
     "text": [
      " [-----------------100%-----------------] 40000 of 40000 complete in 10.5 sec"
     ]
    }
   ],
   "source": [
    "# t<τ なら λ1, t>=τ なら λ2\n",
    "# λ1, λ2, τ に対して決定的なので\n",
    "# deterministic デコレータをつけて定義する\n",
    "\n",
    "# ベイズ推論におけるすべてのパラメータは確率密度関数\n",
    "# -> ベイズ推論におけるすべてのパラメータは関数\n",
    "# なので，関数として定義される\n",
    "\n",
    "@pm.deterministic\n",
    "def lambda_(tau=tau, lambda_1=lambda_1, lambda_2=lambda_2):\n",
    "    out = np.zeros(num_data)\n",
    "    out[:tau] = lambda_1\n",
    "    out[tau:] = lambda_2\n",
    "    return out\n",
    "\n",
    "# MCMC のモデルを立てる\n",
    "# observed=True は，引数で与えた値(data)を固定する\n",
    "# パラメータを固定して値をサンプルするのと同様に\n",
    "# 値を固定してパラメータをサンプルしようということ\n",
    "\n",
    "observation = pm.Poisson(\"obs\", lambda_, value=data, observed=True)\n",
    "model       = pm.Model([observation, lambda_1, lambda_2, tau])\n",
    "mcmc        = pm.MCMC(model)\n",
    "\n",
    "# MCMC を実行する\n",
    "mcmc.sample(40000, 10000)"
   ]
  },
  {
   "cell_type": "code",
   "execution_count": 18,
   "metadata": {
    "collapsed": false
   },
   "outputs": [
    {
     "data": {
      "image/png": "[encoded data removed]",
      "text/plain": [
       "<matplotlib.figure.Figure at 0x20f0cf01908>"
      ]
     },
     "metadata": {},
     "output_type": "display_data"
    }
   ],
   "source": [
    "# 結果を確認する\n",
    "lambda_1_samples = mcmc.trace(\"lambda_1\")[:]\n",
    "lambda_2_samples = mcmc.trace(\"lambda_2\")[:]\n",
    "tau_samples      = mcmc.trace(\"tau\")[:]\n",
    "\n",
    "plt.subplot(3, 1, 1)\n",
    "plt.hist(lambda_1_samples, bins=30, alpha=0.85, normed=True)\n",
    "plt.xlim([15, 30])\n",
    "plt.subplot(3, 1, 2)\n",
    "plt.hist(lambda_2_samples, bins=30, alpha=0.85, normed=True)\n",
    "plt.xlim([15, 30])\n",
    "plt.subplot(3, 1, 3)\n",
    "w = 1/tau_samples.shape[0] * np.ones_like(tau_samples)\n",
    "plt.hist(tau_samples, bins=num_data, alpha=1, weights=w, rwidth=2)\n",
    "plt.xlim([30, num_data-20])\n",
    "plt.show()"
   ]
  },
  {
   "cell_type": "code",
   "execution_count": 19,
   "metadata": {
    "collapsed": false
   },
   "outputs": [
    {
     "name": "stdout",
     "output_type": "stream",
     "text": [
      "lambda_1_mean:17.7510509599\n",
      "lambda_2_mean:22.7179204862\n"
     ]
    }
   ],
   "source": [
    "# 演習問題\n",
    "# 1. λ1, λ2 の事後確率の平均を求める\n",
    "\n",
    "# サンプル平均を求めてみよう\n",
    "lambda_1_mean = np.sum(lambda_1_samples)/lambda_1_samples.shape[0]\n",
    "lambda_2_mean = np.sum(lambda_2_samples)/lambda_2_samples.shape[0]\n",
    "print(\"lambda_1_mean:\" + str(lambda_1_mean))\n",
    "print(\"lambda_2_mean:\" + str(lambda_2_mean))"
   ]
  },
  {
   "cell_type": "code",
   "execution_count": 20,
   "metadata": {
    "collapsed": false
   },
   "outputs": [
    {
     "name": "stdout",
     "output_type": "stream",
     "text": [
      "lambda_1_mean:17.7510509599\n",
      "lambda_2_mean:22.7179204862\n"
     ]
    }
   ],
   "source": [
    "# 1.A  サンプルには mean() メソッドが存在するらしい\n",
    "print(\"lambda_1_mean:\" + str(lambda_1_samples.mean()))\n",
    "print(\"lambda_2_mean:\" + str(lambda_2_samples.mean()))\n"
   ]
  },
  {
   "cell_type": "code",
   "execution_count": 21,
   "metadata": {
    "collapsed": false
   },
   "outputs": [
    {
     "name": "stdout",
     "output_type": "stream",
     "text": [
      "mean of rate:0.281367613848\n"
     ]
    }
   ],
   "source": [
    "# 2. メッセージの増加率の期待値を求める\n",
    "\n",
    "# 同じインデックスは同一の試行の結果なのかな？\n",
    "# (λ2-λ1)/λ1 が増加率\n",
    "\n",
    "# サンプルオブジェクトに対しては\n",
    "# numpy っぽくこういう感じで計算できるっぽい\n",
    "rate = (lambda_2_samples-lambda_1_samples)/lambda_1_samples\n",
    "print(\"mean of rate:\" + str(np.sum(rate)/rate.shape[0]))"
   ]
  },
  {
   "cell_type": "code",
   "execution_count": 23,
   "metadata": {
    "collapsed": false
   },
   "outputs": [
    {
     "name": "stdout",
     "output_type": "stream",
     "text": [
      "mean of rate:0.281367613848\n"
     ]
    }
   ],
   "source": [
    "# 2.A これも mean() メソッドでよかったみたい\n",
    "print(\"mean of rate:\" + str(rate.mean()))"
   ]
  },
  {
   "cell_type": "code",
   "execution_count": null,
   "metadata": {
    "collapsed": true
   },
   "outputs": [],
   "source": []
  }
 ],
 "metadata": {
  "kernelspec": {
   "display_name": "Python [conda env:Anaconda3]",
   "language": "python",
   "name": "conda-env-Anaconda3-py"
  },
  "language_info": {
   "codemirror_mode": {
    "name": "ipython",
    "version": 3
   },
   "file_extension": ".py",
   "mimetype": "text/x-python",
   "name": "python",
   "nbconvert_exporter": "python",
   "pygments_lexer": "ipython3",
   "version": "3.5.2"
  }
 },
 "nbformat": 4,
 "nbformat_minor": 2
}
