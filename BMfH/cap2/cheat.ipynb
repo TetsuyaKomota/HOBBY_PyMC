{
 "cells": [
  {
   "cell_type": "code",
   "execution_count": 1,
   "metadata": {
    "collapsed": true
   },
   "outputs": [],
   "source": [
    "import pymc as pm\n",
    "import numpy as np\n",
    "import matplotlib.pyplot as plt"
   ]
  },
  {
   "cell_type": "code",
   "execution_count": 39,
   "metadata": {
    "collapsed": false
   },
   "outputs": [
    {
     "name": "stdout",
     "output_type": "stream",
     "text": [
      "4/100=0.040\n"
     ]
    }
   ],
   "source": [
    "# プライバシーを守るためには\n",
    "# 「統計的に解析可能な」(=モデル化された)ノイズを含めればいい\n",
    "# コイントスを用いたプライバシーアルゴリズム概要\n",
    "# ・TF データである\n",
    "# ・被験者は回答前にコイントスを 2階 行う\n",
    "# ・1度目が 表 なら，2回目の結果にかかわらず正直に回答する\n",
    "# ・1度目が 裏 なら，2回目の結果を答える(表ならT, 裏ならF)\n",
    "# ・面接者は被験者のコイントスの結果を確認しない\n",
    "# ・すると面接者は被験者の T が正直な結果なのか，\n",
    "#   コイントスの結果なのかを特定することが出来ない\n",
    "# ・コインが一様だとすると，\n",
    "#   被験者全てが F の場合，T の割合は 1/4 \n",
    "#   被験者全てが T の場合，T の割合は 3/4\n",
    "# ・最大の利点は「嘘」という不確定要素を無視できること\n",
    "\n",
    "# プライバシーアルゴリズムを MCMC で実装しよう\n",
    "# モデル化されているのだから，deterministic で簡単に実装できる\n",
    "\n",
    "# 被験者数\n",
    "N = 100\n",
    "\n",
    "# カンニングの割合\n",
    "p_true = 0.05\n",
    "\n",
    "# テスト結果(被験者は正直に回答するとは限らない)\n",
    "ans_true = pm.rbernoulli(p_true, N)\n",
    "print(\"%d/%d=%.3f\" % (sum(ans_true), N, sum(ans_true)/N))"
   ]
  },
  {
   "cell_type": "code",
   "execution_count": 40,
   "metadata": {
    "collapsed": false
   },
   "outputs": [
    {
     "name": "stdout",
     "output_type": "stream",
     "text": [
      "[False False False False False False False False False False]\n",
      "[False False  True  True False  True  True False  True  True]\n",
      "[ True  True  True False  True  True False  True  True False]\n",
      "4/100=0.040\n",
      " [-----------------100%-----------------] 40000 of 40000 complete in 3.0 sec"
     ]
    }
   ],
   "source": [
    "# プライバシーアルゴリズムに使用するコイントスの結果\n",
    "flip_fst = pm.rbernoulli(0.5, N)\n",
    "flip_snd = pm.rbernoulli(0.5, N)\n",
    "\n",
    "# プライバシーアルゴリズムによる回答結果\n",
    "# 回答結果に対してモデル化を行わず，\n",
    "# そのまま MCMC で推定してみる\n",
    "obs = flip_fst*ans_true + (1-flip_fst)*flip_snd\n",
    "\n",
    "# プライバシーアルゴリズムの動きを確認\n",
    "# N=10 とかでやってみると，確かにうまくできている\n",
    "print(ans_true[:10])\n",
    "print(flip_fst[:10])\n",
    "print(flip_snd[:10])\n",
    "print(\"%d/%d=%.3f\" % (sum(obs[:10]), N, sum(obs[:10])/N))\n",
    "    \n",
    "# カンニングの割合の予測値\n",
    "p = pm.Uniform(\"p\", 0, 1)\n",
    "\n",
    "# p の上での被験者のカンニング分布\n",
    "ans = pm.Bernoulli(\"ans\", p, value=obs, observed=True)\n",
    "\n",
    "# モデル作って MCMC\n",
    "# model = pm.Model([ans, p, obs, flip_fst, flip_snd])\n",
    "# model = pm.Model([flip_fst, flip_snd, obs, p, ans])\n",
    "# 回答結果をそのまま使うとすると，コイントスは考慮しない\n",
    "model = pm.Model([obs, p, ans])\n",
    "mcmc  = pm.MCMC(model)\n",
    "mcmc.sample(40000, 15000)"
   ]
  },
  {
   "cell_type": "code",
   "execution_count": 41,
   "metadata": {
    "collapsed": false
   },
   "outputs": [
    {
     "data": {
      "image/png": "[encoded data removed]",
      "text/plain": [
       "<matplotlib.figure.Figure at 0x263987b5dd8>"
      ]
     },
     "metadata": {},
     "output_type": "display_data"
    }
   ],
   "source": [
    "plt.hist(mcmc.trace(\"p\")[:], bins=35)\n",
    "plt.show()\n",
    "# 結果はこうなり，実際の値とかけ離れている"
   ]
  },
  {
   "cell_type": "code",
   "execution_count": 45,
   "metadata": {
    "collapsed": false
   },
   "outputs": [
    {
     "name": "stdout",
     "output_type": "stream",
     "text": [
      "0.22\n"
     ]
    }
   ],
   "source": []
  },
  {
   "cell_type": "code",
   "execution_count": null,
   "metadata": {
    "collapsed": true
   },
   "outputs": [],
   "source": []
  }
 ],
 "metadata": {
  "kernelspec": {
   "display_name": "Python [conda env:Anaconda3]",
   "language": "python",
   "name": "conda-env-Anaconda3-py"
  },
  "language_info": {
   "codemirror_mode": {
    "name": "ipython",
    "version": 3
   },
   "file_extension": ".py",
   "mimetype": "text/x-python",
   "name": "python",
   "nbconvert_exporter": "python",
   "pygments_lexer": "ipython3",
   "version": "3.5.2"
  }
 },
 "nbformat": 4,
 "nbformat_minor": 2
}
