{
 "cells": [
  {
   "cell_type": "code",
   "execution_count": 6,
   "metadata": {
    "collapsed": true
   },
   "outputs": [],
   "source": [
    "import pymc as pm\n",
    "\n",
    "# パラメータの親子関係を確認しよう\n",
    "\n",
    "lambda_ = pm.Exponential(\"lambda_\", 1)\n",
    "\n",
    "data_generator = pm.Poisson(\"data_generator\", lambda_)\n",
    "\n",
    "# PyMC のパラメータはすべて関数\n",
    "# -> PyMC パラメータを含めた演算は関数として扱われる\n",
    "# data_one は「data_generator の値に 1 を加える」という関数\n",
    "# というパラメータ\n",
    "data_one = data_generator + 1"
   ]
  },
  {
   "cell_type": "code",
   "execution_count": 7,
   "metadata": {
    "collapsed": false
   },
   "outputs": [
    {
     "name": "stdout",
     "output_type": "stream",
     "text": [
      "Children of lambda_ :\n",
      "{<pymc.distributions.new_dist_class.<locals>.new_class 'data_generator' at 0x000001C53A7905C0>}\n",
      "Parents of data_generator :\n",
      "{'mu': <pymc.distributions.new_dist_class.<locals>.new_class 'lambda_' at 0x000001C53A790588>}\n",
      "Children of data_generator :\n",
      "{<pymc.PyMCObjects.Deterministic '(data_generator_add_1)' at 0x000001C53A7905F8>}\n"
     ]
    }
   ],
   "source": [
    "print(\"Children of lambda_ :\")\n",
    "print(lambda_.children)\n",
    "print(\"Parents of data_generator :\")\n",
    "print(data_generator.parents)\n",
    "print(\"Children of data_generator :\")\n",
    "print(data_generator.children)\n",
    "\n",
    "# data_one には明示的に名前を与えてない\n",
    "# (data_one はインスタンスへのラベル)\n",
    "# 出力結果が data_generator_add_1 という名前なのがすごい"
   ]
  },
  {
   "cell_type": "code",
   "execution_count": 4,
   "metadata": {
    "collapsed": false
   },
   "outputs": [
    {
     "data": {
      "text/plain": [
       "array([ 0.25778871,  0.77857266,  0.36375031,  0.83591117,  0.61358639,\n",
       "        0.19773797,  0.14315712,  0.72253675,  0.89356558,  0.5094856 ])"
      ]
     },
     "execution_count": 4,
     "metadata": {},
     "output_type": "execute_result"
    }
   ],
   "source": [
    "# 同じ設定の複数のパラメータを作るときはリストや numpy.array で\n",
    "# 管理するより, size オプションで作る方がよい\n",
    "# 呼び出すとき，結果はリストで返ってくる\n",
    "\n",
    "betas = pm.Uniform(\"betas\", 0, 1, size=10)\n",
    "betas.random()"
   ]
  },
  {
   "cell_type": "code",
   "execution_count": 15,
   "metadata": {
    "collapsed": false
   },
   "outputs": [
    {
     "name": "stdout",
     "output_type": "stream",
     "text": [
      "init value:\n",
      "lambda_1.value = 3.026914525364104\n",
      "lambda_2.value = 1.3563751181595567\n",
      "tau.value      = 1\n",
      "next value:\n",
      "lambda_1.value = 0.10343356542780559\n",
      "lambda_2.value = 0.6663146905476857\n",
      "tau.value      = 0\n"
     ]
    }
   ],
   "source": [
    "lambda_1 = pm.Exponential(\"lambda_1\", 1)\n",
    "lambda_2 = pm.Exponential(\"lambda_2\", 1)\n",
    "tau = pm.DiscreteUniform(\"tau\", 0, 10)\n",
    "\n",
    "# 初期値\n",
    "# 値はvalue プロパティで確認，random() メソッドで更新\n",
    "print(\"init value:\")\n",
    "print(\"lambda_1.value = \" + str(lambda_1.value))\n",
    "print(\"lambda_2.value = \" + str(lambda_2.value))\n",
    "print(\"tau.value      = \" + str(tau.value))\n",
    "\n",
    "lambda_1.random()\n",
    "lambda_2.random()\n",
    "tau.random()\n",
    "\n",
    "print(\"next value:\")\n",
    "print(\"lambda_1.value = \" + str(lambda_1.value))\n",
    "print(\"lambda_2.value = \" + str(lambda_2.value))\n",
    "print(\"tau.value      = \" + str(tau.value))\n"
   ]
  },
  {
   "cell_type": "code",
   "execution_count": 23,
   "metadata": {
    "collapsed": false
   },
   "outputs": [],
   "source": [
    "# (復習)新しい deterministic な確率変数を作るには\n",
    "# 関数で定義して pm.deterministic デコレータ\n",
    "@pm.deterministic\n",
    "def some_deterministic_var(lambda_1=lambda_1):\n",
    "    return lambda_1\n",
    "\n",
    "# 引数に与える確率変数は def 内では値として扱う\n",
    "# なので以下のようにする必要はない(というかできない)\n",
    "#\n",
    "# def hogehoge(v1=v1, ):\n",
    "#     return v1.value**2\n",
    "#\n",
    "# v1 の値の2乗にしたかったら単純に v1**2 でOK\n",
    "#\n",
    "# また，引数はキーワード引数で渡さないといけない\n",
    "\n",
    "@pm.deterministic\n",
    "def some_pow(v1=some_deterministic_var):\n",
    "    return v1**2"
   ]
  },
  {
   "cell_type": "code",
   "execution_count": 24,
   "metadata": {
    "collapsed": false
   },
   "outputs": [
    {
     "name": "stdout",
     "output_type": "stream",
     "text": [
      "0.10343356542780559\n",
      "0.0106985024571\n"
     ]
    }
   ],
   "source": [
    "print(some_deterministic_var.value)\n",
    "print(some_pow.value)"
   ]
  },
  {
   "cell_type": "code",
   "execution_count": null,
   "metadata": {
    "collapsed": true
   },
   "outputs": [],
   "source": []
  }
 ],
 "metadata": {
  "kernelspec": {
   "display_name": "Python [conda env:Anaconda3]",
   "language": "python",
   "name": "conda-env-Anaconda3-py"
  },
  "language_info": {
   "codemirror_mode": {
    "name": "ipython",
    "version": 3
   },
   "file_extension": ".py",
   "mimetype": "text/x-python",
   "name": "python",
   "nbconvert_exporter": "python",
   "pygments_lexer": "ipython3",
   "version": "3.5.2"
  }
 },
 "nbformat": 4,
 "nbformat_minor": 2
}
