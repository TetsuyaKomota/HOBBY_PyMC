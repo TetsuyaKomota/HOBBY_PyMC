{
 "cells": [
  {
   "cell_type": "code",
   "execution_count": 41,
   "metadata": {
    "collapsed": false
   },
   "outputs": [],
   "source": [
    "import pymc as pm\n",
    "import numpy as np\n",
    "import matplotlib.pyplot as plt\n",
    "\n",
    "N = 80"
   ]
  },
  {
   "cell_type": "code",
   "execution_count": 42,
   "metadata": {
    "collapsed": false
   },
   "outputs": [
    {
     "name": "stdout",
     "output_type": "stream",
     "text": [
      "17\n",
      "<class 'int'>\n",
      "18.5940506716\n",
      "<class 'numpy.float64'>\n",
      "4.0579853862\n",
      "<class 'numpy.float64'>\n"
     ]
    }
   ],
   "source": [
    "# pymc にも単純な乱数生成器がある\n",
    "# これは確率変数ではなく，正真正銘の乱数\n",
    "tau = pm.rdiscrete_uniform(0, N)\n",
    "print(tau)\n",
    "print(type(tau))\n",
    "\n",
    "alpha = 1/20\n",
    "# 理由はないけど 乱数を10個生成してみてる\n",
    "lambda_1, lambda_2 = pm.rexponential(alpha, 10)[:2]\n",
    "print(lambda_1)\n",
    "print(type(lambda_1))\n",
    "print(lambda_2)\n",
    "print(type(lambda_2))"
   ]
  },
  {
   "cell_type": "code",
   "execution_count": 43,
   "metadata": {
    "collapsed": false
   },
   "outputs": [
    {
     "name": "stdout",
     "output_type": "stream",
     "text": [
      "[ 18.59405067  18.59405067  18.59405067  18.59405067  18.59405067\n",
      "  18.59405067  18.59405067  18.59405067  18.59405067  18.59405067\n",
      "  18.59405067  18.59405067  18.59405067  18.59405067  18.59405067\n",
      "  18.59405067  18.59405067   4.05798539   4.05798539   4.05798539\n",
      "   4.05798539   4.05798539   4.05798539   4.05798539   4.05798539\n",
      "   4.05798539   4.05798539   4.05798539   4.05798539   4.05798539\n",
      "   4.05798539   4.05798539   4.05798539   4.05798539   4.05798539\n",
      "   4.05798539   4.05798539   4.05798539   4.05798539   4.05798539\n",
      "   4.05798539   4.05798539   4.05798539   4.05798539   4.05798539\n",
      "   4.05798539   4.05798539   4.05798539   4.05798539   4.05798539\n",
      "   4.05798539   4.05798539   4.05798539   4.05798539   4.05798539\n",
      "   4.05798539   4.05798539   4.05798539   4.05798539   4.05798539\n",
      "   4.05798539   4.05798539   4.05798539   4.05798539   4.05798539\n",
      "   4.05798539   4.05798539   4.05798539   4.05798539   4.05798539\n",
      "   4.05798539   4.05798539   4.05798539   4.05798539   4.05798539\n",
      "   4.05798539   4.05798539   4.05798539   4.05798539   4.05798539]\n",
      "<class 'numpy.ndarray'>\n"
     ]
    }
   ],
   "source": [
    "# np.r_[np.array, np.array, ...] で numpy の row 連結になるらしい\n",
    "lambda_ = np.r_[lambda_1*np.ones(tau), lambda_2*np.ones(N-tau)]\n",
    "print(lambda_)\n",
    "print(type(lambda_))"
   ]
  },
  {
   "cell_type": "code",
   "execution_count": 44,
   "metadata": {
    "collapsed": false
   },
   "outputs": [
    {
     "name": "stdout",
     "output_type": "stream",
     "text": [
      "[18 17 20 22 22 14 18 16 22 17 21 14 21 23 24 16 14  5  4  4  7  6  5  3  9\n",
      "  3  4  4  1  6  7  4  8  6  2  2  4  5  4  1  4  2  2  3  5  2  3  3  7  6\n",
      "  7  6  5  7  3  5  8  3  4  1  4  5  2  1  2  5  6  5  3  4  2  6  4  5  4\n",
      "  5 10  7  4  3]\n",
      "<class 'numpy.ndarray'>\n"
     ]
    }
   ],
   "source": [
    "data = pm.rpoisson(lambda_)\n",
    "print(data)\n",
    "print(type(data))"
   ]
  },
  {
   "cell_type": "code",
   "execution_count": 46,
   "metadata": {
    "collapsed": false
   },
   "outputs": [
    {
     "data": {
      "image/png": "[encoded data removed]",
      "text/plain": [
       "<matplotlib.figure.Figure at 0x2009d0ed048>"
      ]
     },
     "metadata": {},
     "output_type": "display_data"
    }
   ],
   "source": [
    "plt.bar(range(N), data)\n",
    "plt.bar(tau-1, data[tau-1], color=\"r\", label=\"user behavior changed\")\n",
    "plt.xlabel(\"Time (days)\")\n",
    "plt.title(\"txt received\")\n",
    "plt.xlim(0, 80)\n",
    "plt.legend()\n",
    "plt.show()"
   ]
  },
  {
   "cell_type": "code",
   "execution_count": null,
   "metadata": {
    "collapsed": true
   },
   "outputs": [],
   "source": []
  }
 ],
 "metadata": {
  "kernelspec": {
   "display_name": "Python [conda env:Anaconda3]",
   "language": "python",
   "name": "conda-env-Anaconda3-py"
  },
  "language_info": {
   "codemirror_mode": {
    "name": "ipython",
    "version": 3
   },
   "file_extension": ".py",
   "mimetype": "text/x-python",
   "name": "python",
   "nbconvert_exporter": "python",
   "pygments_lexer": "ipython3",
   "version": "3.5.2"
  }
 },
 "nbformat": 4,
 "nbformat_minor": 2
}
