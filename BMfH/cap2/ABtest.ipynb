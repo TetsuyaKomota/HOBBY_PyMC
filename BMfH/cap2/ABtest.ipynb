{
 "cells": [
  {
   "cell_type": "code",
   "execution_count": 68,
   "metadata": {
    "collapsed": true
   },
   "outputs": [],
   "source": [
    "import pymc as pm\n",
    "import numpy as np\n",
    "import matplotlib.pyplot as plt"
   ]
  },
  {
   "cell_type": "code",
   "execution_count": 73,
   "metadata": {
    "collapsed": false
   },
   "outputs": [
    {
     "name": "stdout",
     "output_type": "stream",
     "text": [
      "A:\n",
      "73/1500=0.048667\n",
      "B:\n",
      "25/750=0.033333\n"
     ]
    }
   ],
   "source": [
    "# 神目線\n",
    "p_true_A = 0.05\n",
    "p_true_B = 0.04\n",
    "\n",
    "# 被験者数\n",
    "N_A = 1500\n",
    "N_B =  750\n",
    "\n",
    "# 試験結果\n",
    "# この結果から p_true を推定しようというもの\n",
    "# 単に試験結果なので確率変数ではなく乱数でOK\n",
    "occurences_A = pm.rbernoulli(p_true_A, N_A)\n",
    "occurences_B = pm.rbernoulli(p_true_B, N_B)\n",
    "# print(occurences_A)\n",
    "# print(occurences_B)\n",
    "# 単純頻度では真の確率とは違うよね\n",
    "print(\"A:\")\n",
    "print(\"%d/%d=%03f\" % (sum(occurences_A), N_A, sum(occurences_A)/N_A))\n",
    "print(\"B:\")\n",
    "print(\"%d/%d=%03f\" % (sum(occurences_B), N_B, sum(occurences_B)/N_B))"
   ]
  },
  {
   "cell_type": "code",
   "execution_count": 74,
   "metadata": {
    "collapsed": true
   },
   "outputs": [],
   "source": [
    "# サイト A, B の実装がコンバージョンにつながったとする確率\n",
    "# これを比較して AB テストを行いたい\n",
    "# 理由不十分の原則より一様分布スタート\n",
    "p_A = pm.Uniform(\"p_A\", 0, 1)\n",
    "p_B = pm.Uniform(\"p_B\", 0, 1)\n",
    "\n",
    "# 比較というのは rate = p_A-p_B のことだから\n",
    "# それ自体を delta という確率変数にしてしまおう\n",
    "@pm.deterministic\n",
    "def delta(p_A=p_A, p_B=p_B):\n",
    "    return p_A - p_B"
   ]
  },
  {
   "cell_type": "code",
   "execution_count": 75,
   "metadata": {
    "collapsed": false
   },
   "outputs": [
    {
     "name": "stdout",
     "output_type": "stream",
     "text": [
      " [-----------------100%-----------------] 25000 of 25000 complete in 4.6 sec"
     ]
    }
   ],
   "source": [
    "# ベルヌーイ分布に従ったとする(TF分布だから妥当)\n",
    "# 確率 p に従ったとする\n",
    "# occurences という結果が出たとする(これを固定する)\n",
    "obs_A = pm.Bernoulli(\"obs_A\", p_A, value=occurences_A, observed=True)\n",
    "obs_B = pm.Bernoulli(\"obs_B\", p_B, value=occurences_B, observed=True)\n",
    "\n",
    "# MCMC で p を推定しよう\n",
    "# 関連する確率変数はすべて一つにまとめて MCMC\n",
    "mcmc = pm.MCMC([p_A, p_B, delta, obs_A, obs_B])\n",
    "mcmc.sample(25000, 5000)"
   ]
  },
  {
   "cell_type": "code",
   "execution_count": 76,
   "metadata": {
    "collapsed": false
   },
   "outputs": [
    {
     "data": {
      "image/png": "[encoded data removed]",
      "text/plain": [
       "<matplotlib.figure.Figure at 0x1b89dfb0048>"
      ]
     },
     "metadata": {},
     "output_type": "display_data"
    }
   ],
   "source": [
    "plt.subplot(3, 1, 1)\n",
    "plt.vlines(p_true_A, 0, 90, linestyle=\"--\", label=\"p_true_A\")\n",
    "plt.hist(mcmc.trace(\"p_A\")[:], bins=35, normed=True, label=\"p_A\")\n",
    "# plt.xlim(0, 1)\n",
    "plt.ylim(0, 90)\n",
    "plt.legend()\n",
    "\n",
    "plt.subplot(3, 1, 2)\n",
    "plt.vlines(p_true_B, 0, 90, linestyle=\"--\", label=\"p_true_B\")\n",
    "plt.hist(mcmc.trace(\"p_B\")[:], bins=35, normed=True, label=\"p_B\")\n",
    "# plt.xlim(0, 1)\n",
    "plt.ylim(0, 90)\n",
    "plt.legend()\n",
    "\n",
    "plt.subplot(3, 1, 3)\n",
    "plt.vlines(0, 0, 90)\n",
    "plt.vlines(p_true_A-p_true_B, 0, 90, linestyle=\"--\", label=\"true_delta\")\n",
    "plt.hist(mcmc.trace(\"delta\")[:], bins=35, normed=True, label=\"delta\")\n",
    "# plt.xlim(0, 1)\n",
    "plt.ylim(0, 90)\n",
    "plt.legend()\n",
    "\n",
    "plt.show()\n",
    "\n",
    "# delta のグラフの実践は「A も B も変わらない」確率なので，\n",
    "# 分布の山が実践よりも正にふれていれば A の方が効果的であると判断できる\n",
    "\n",
    "# (今回はそうでもないけど)基本的に推定結果の分布は\n",
    "# データが少ない(=不確定度が高い)変数ほどすそ野が広がる\n",
    "# (つまり今回は p_B の分布が広がっててほしかった)\n",
    "# -> MCMC の結果から，「どのデータをもっと集めるべきか」も判断できる"
   ]
  },
  {
   "cell_type": "code",
   "execution_count": 78,
   "metadata": {
    "collapsed": false
   },
   "outputs": [
    {
     "name": "stdout",
     "output_type": "stream",
     "text": [
      "Probability site A is WORSE  than site B: 0.048\n",
      "Probability site A is BETTER than site B: 0.952\n"
     ]
    }
   ],
   "source": [
    "# 数値で結果を見たければ delta が正であった頻度をみればいい\n",
    "print(\"Probability site A is WORSE  than site B: %.3f\" % (mcmc.trace(\"delta\")[:] < 0).mean())\n",
    "print(\"Probability site A is BETTER than site B: %.3f\" % (mcmc.trace(\"delta\")[:] > 0).mean())"
   ]
  },
  {
   "cell_type": "code",
   "execution_count": null,
   "metadata": {
    "collapsed": true
   },
   "outputs": [],
   "source": []
  }
 ],
 "metadata": {
  "kernelspec": {
   "display_name": "Python [conda env:Anaconda3]",
   "language": "python",
   "name": "conda-env-Anaconda3-py"
  },
  "language_info": {
   "codemirror_mode": {
    "name": "ipython",
    "version": 3
   },
   "file_extension": ".py",
   "mimetype": "text/x-python",
   "name": "python",
   "nbconvert_exporter": "python",
   "pygments_lexer": "ipython3",
   "version": "3.5.2"
  }
 },
 "nbformat": 4,
 "nbformat_minor": 2
}
