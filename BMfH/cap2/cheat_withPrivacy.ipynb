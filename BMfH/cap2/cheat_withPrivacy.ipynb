{
 "cells": [
  {
   "cell_type": "code",
   "execution_count": 2,
   "metadata": {
    "collapsed": false
   },
   "outputs": [],
   "source": [
    "import pymc as pm\n",
    "import numpy as np\n",
    "import matplotlib.pyplot as plt"
   ]
  },
  {
   "cell_type": "code",
   "execution_count": 11,
   "metadata": {
    "collapsed": false
   },
   "outputs": [
    {
     "name": "stdout",
     "output_type": "stream",
     "text": [
      "[ True False False  True  True False False False  True  True  True False\n",
      " False False False False False  True False  True False  True False False\n",
      " False False  True False False  True  True False  True  True False False\n",
      "  True False  True False  True False False False False False False False\n",
      " False False False False  True  True False False False  True False False\n",
      " False False  True False False False False False False False False  True\n",
      "  True  True False  True False  True  True  True False False  True False\n",
      "  True False False False False  True False  True  True False  True False\n",
      "  True False False False]\n",
      "35/100=0.350\n"
     ]
    }
   ],
   "source": [
    "# MCMC のサンプリング対象については\n",
    "# 「正確な値が分からない => サンプリング対象」ということ\n",
    "# 例えばコイントスの結果は面接者にとって未知であるから\n",
    "# MCMC のサンプリング対象になるべき\n",
    "\n",
    "# 今回の推定では\n",
    "# 「面接結果 ans_true」から「カンニングの割合 p」を推定したい\n",
    "\n",
    "N = 100\n",
    "\n",
    "# 神の目線\n",
    "p_true   = 0.35\n",
    "ans_true = pm.rbernoulli(p_true, N)\n",
    "print(ans_true)\n",
    "print(\"%d/%d=%.3f\" % (sum(ans_true), N, sum(ans_true)/N))\n"
   ]
  },
  {
   "cell_type": "code",
   "execution_count": 14,
   "metadata": {
    "collapsed": false
   },
   "outputs": [
    {
     "name": "stdout",
     "output_type": "stream",
     "text": [
      " [-----------------100%-----------------] 40000 of 40000 complete in 24.1 sec"
     ]
    }
   ],
   "source": [
    "# p は未知なので一様分布\n",
    "p = pm.Uniform(\"p\", 0, 1)\n",
    "\n",
    "# ans は p をもとに生成される\n",
    "# この ans は「真実はこのように決定する」という\n",
    "# モデルの一部であり，これが入力ではない\n",
    "# ans を用意するのは\n",
    "# ・真実というものが存在し，ベルヌーイ分布に従う\n",
    "# ・真実は公開されず，obs_property を通して観測される\n",
    "# という世界観のモデリングのため\n",
    "ans = pm.Bernoulli(\"ans\", p, size=N)\n",
    "\n",
    "# プライバシーアルゴリズムに使用するコイントスの結果\n",
    "# 実際には面接者に未知なので確率変数として扱い，\n",
    "# MCMC でサンプリングする\n",
    "flip_fst = pm.Bernoulli(\"flip_fst\", 0.5, size=N)\n",
    "flip_snd = pm.Bernoulli(\"flip_snd\", 0.5, size=N)\n",
    "\n",
    "# プライバシーアルゴリズムを考慮した\n",
    "# 「カンニングしました」と回答する「確率」\n",
    "@pm.deterministic\n",
    "def obs_property(ff=flip_fst, fs=flip_snd, t=ans):\n",
    "    observed = ff * t + (1-ff) * fs\n",
    "    return observed.sum() / N\n",
    "\n",
    "# このモデル化された世界で ans_true を生成してみる\n",
    "# obs = pm.Binomial(\"obs\", N, obs_property, value=sum(ans_true), observed=True)\n",
    "# 本では上のように総和とって二項分布にしてたけど，系列のまま\n",
    "# ベルヌーイ分布で推定したほうが話の流れ的に自然な気がしたのでそうした\n",
    "obs = pm.Bernoulli(\"obs\", obs_property, value=ans_true, observed=True)\n",
    "\n",
    "model = pm.Model([p, ans, flip_fst, flip_snd, obs_property, obs])\n",
    "mcmc  = pm.MCMC(model)\n",
    "mcmc.sample(40000, 15000)"
   ]
  },
  {
   "cell_type": "code",
   "execution_count": 15,
   "metadata": {
    "collapsed": false
   },
   "outputs": [
    {
     "data": {
      "image/png": "[encoded data removed]",
      "text/plain": [
       "<matplotlib.figure.Figure at 0x204bf867860>"
      ]
     },
     "metadata": {},
     "output_type": "display_data"
    }
   ],
   "source": [
    "plt.hist(mcmc.trace(\"p\")[:], bins=35)\n",
    "plt.show()\n",
    "\n",
    "# ベルヌーイ分布でやった結果，二項分布よりも不確定性が大きいように見える\n",
    "# 関心があるのは「誰が」ではなくカンニングの割合事態なので，\n",
    "# 総和をとってしまった方が余計が情報が削減出来て正確になるということかも\n",
    "#\n",
    "# 「まだまだ不確定」というのは本でも触れられている通りなので問題なし"
   ]
  },
  {
   "cell_type": "code",
   "execution_count": null,
   "metadata": {
    "collapsed": true
   },
   "outputs": [],
   "source": []
  }
 ],
 "metadata": {
  "kernelspec": {
   "display_name": "Python [conda env:Anaconda3]",
   "language": "python",
   "name": "conda-env-Anaconda3-py"
  },
  "language_info": {
   "codemirror_mode": {
    "name": "ipython",
    "version": 3
   },
   "file_extension": ".py",
   "mimetype": "text/x-python",
   "name": "python",
   "nbconvert_exporter": "python",
   "pygments_lexer": "ipython3",
   "version": "3.5.2"
  }
 },
 "nbformat": 4,
 "nbformat_minor": 2
}
